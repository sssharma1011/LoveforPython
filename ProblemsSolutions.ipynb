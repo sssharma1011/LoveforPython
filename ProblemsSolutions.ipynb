{
 "cells": [
  {
   "cell_type": "code",
   "execution_count": null,
   "metadata": {},
   "outputs": [],
   "source": []
  },
  {
   "cell_type": "code",
   "execution_count": null,
   "metadata": {},
   "outputs": [],
   "source": []
  },
  {
   "cell_type": "code",
   "execution_count": null,
   "metadata": {},
   "outputs": [],
   "source": []
  },
  {
   "cell_type": "code",
   "execution_count": null,
   "metadata": {},
   "outputs": [],
   "source": [
    "print('''Twinkle, twinkle, little star,\n",
    "\tHow I wonder what you are! \n",
    "\t\tUp above the world so high,   \tLike a diamond in the sky. \n",
    "Twinkle, twinkle, little star, \n",
    "\tHow I wonder what you are''')"
   ]
  },
  {
   "cell_type": "code",
   "execution_count": null,
   "metadata": {},
   "outputs": [],
   "source": [
    "from platform import python_version\n",
    "python_version()\n"
   ]
  },
  {
   "cell_type": "code",
   "execution_count": null,
   "metadata": {},
   "outputs": [],
   "source": [
    "a.seek(0)\n"
   ]
  },
  {
   "cell_type": "code",
   "execution_count": 5,
   "metadata": {},
   "outputs": [
    {
     "name": "stdout",
     "output_type": "stream",
     "text": [
      "enter the radius?9\n"
     ]
    }
   ],
   "source": [
    "\n",
    "r=int(input('enter the radius?'))\n"
   ]
  },
  {
   "cell_type": "code",
   "execution_count": 6,
   "metadata": {},
   "outputs": [
    {
     "name": "stdout",
     "output_type": "stream",
     "text": [
      "Area is: 56.52\n"
     ]
    }
   ],
   "source": [
    "\n",
    "Area= 2*3.14*r\n",
    "print(\"Area is: \"  +str(Area))"
   ]
  },
  {
   "cell_type": "code",
   "execution_count": 1,
   "metadata": {},
   "outputs": [
    {
     "name": "stdout",
     "output_type": "stream",
     "text": [
      "eerhS amrahS\n"
     ]
    }
   ],
   "source": [
    "F_name= 'Shree'\n",
    "L_name= 'Sharma '\n",
    "print(F_name[::-1] + L_name[::-1])\n"
   ]
  },
  {
   "cell_type": "code",
   "execution_count": 4,
   "metadata": {},
   "outputs": [
    {
     "name": "stdout",
     "output_type": "stream",
     "text": [
      "Tuple:  ('3', '5', '7', '23')\n",
      "List:  ['3', '5', '7', '23']\n"
     ]
    }
   ],
   "source": [
    "num= '3', '5', '7', '23'\n",
    "a = num[0:]\n",
    "b= list(a)\n",
    "print(\"Tuple: \", a)\n",
    "print(\"List: \", b)\n"
   ]
  },
  {
   "cell_type": "code",
   "execution_count": 3,
   "metadata": {},
   "outputs": [
    {
     "name": "stdout",
     "output_type": "stream",
     "text": [
      "java\n"
     ]
    }
   ],
   "source": [
    "a = \"abc.java\"\n",
    "idx = a.index('.')\n",
    "start = idx+1\n",
    "print(a[start:])"
   ]
  },
  {
   "cell_type": "code",
   "execution_count": 26,
   "metadata": {},
   "outputs": [
    {
     "name": "stdout",
     "output_type": "stream",
     "text": [
      "4\n",
      "3\n"
     ]
    }
   ],
   "source": [
    "color_list = [\"Red\",\"Green\",\"White\" ,\"Black\"]\n",
    "l=len(color_list)\n",
    "print(l)\n",
    "l_variable= l-1\n",
    "print(l_variable)\n",
    "\n"
   ]
  },
  {
   "cell_type": "code",
   "execution_count": 35,
   "metadata": {},
   "outputs": [
    {
     "name": "stdout",
     "output_type": "stream",
     "text": [
      "['Red', 'Black']\n"
     ]
    }
   ],
   "source": [
    "print([color_list[0]] + [color_list[l-1]])"
   ]
  },
  {
   "cell_type": "code",
   "execution_count": 14,
   "metadata": {},
   "outputs": [
    {
     "name": "stdout",
     "output_type": "stream",
     "text": [
      "Exam scheduled on: 11/12/2014\n"
     ]
    }
   ],
   "source": [
    "exam_st_date = ('11', '12', '2014') \n",
    "a=(exam_st_date[0])\n",
    "b=(exam_st_date[1])\n",
    "c=(exam_st_date[2])\n",
    "print(\"Exam scheduled on: \" +a +'/' + b+ '/' +c)\n",
    "\n"
   ]
  },
  {
   "cell_type": "code",
   "execution_count": null,
   "metadata": {},
   "outputs": [],
   "source": [
    "a.seek(0)"
   ]
  },
  {
   "cell_type": "code",
   "execution_count": null,
   "metadata": {},
   "outputs": [],
   "source": [
    "import calendar\n",
    "a= int(input(\"input the year: \"))\n",
    "b= int(input(\"input the month: \"))\n",
    "print(calendar.month(a, b))"
   ]
  },
  {
   "cell_type": "code",
   "execution_count": null,
   "metadata": {},
   "outputs": [],
   "source": [
    "int(intput(n))\n",
    "b=n+nn+nnn\n",
    "print(n)"
   ]
  },
  {
   "cell_type": "code",
   "execution_count": null,
   "metadata": {},
   "outputs": [],
   "source": [
    "date1= (2014, 7, 11)\n",
    "date2= (2014, 7, 2)\n",
    "\n",
    "\n",
    "c=date1[2]-date2[2]\n",
    "\n",
    "print(c)\n"
   ]
  },
  {
   "cell_type": "code",
   "execution_count": 4,
   "metadata": {},
   "outputs": [
    {
     "ename": "SyntaxError",
     "evalue": "can't assign to function call (<ipython-input-4-63591244d5d1>, line 1)",
     "output_type": "error",
     "traceback": [
      "\u001b[1;36m  File \u001b[1;32m\"<ipython-input-4-63591244d5d1>\"\u001b[1;36m, line \u001b[1;32m1\u001b[0m\n\u001b[1;33m    abs(num)= 5\u001b[0m\n\u001b[1;37m               ^\u001b[0m\n\u001b[1;31mSyntaxError\u001b[0m\u001b[1;31m:\u001b[0m can't assign to function call\n"
     ]
    }
   ],
   "source": [
    "abs(num)= 5\n",
    "return num\n"
   ]
  },
  {
   "cell_type": "code",
   "execution_count": 1,
   "metadata": {},
   "outputs": [
    {
     "name": "stdout",
     "output_type": "stream",
     "text": [
      "Enter value: 20\n"
     ]
    }
   ],
   "source": [
    "\n",
    "a=int(input(\"Enter value: \"))\n"
   ]
  },
  {
   "cell_type": "code",
   "execution_count": 2,
   "metadata": {},
   "outputs": [
    {
     "name": "stdout",
     "output_type": "stream",
     "text": [
      "3\n",
      "40\n"
     ]
    }
   ],
   "source": [
    "\n",
    "\n",
    "b = a-(17)\n",
    "print(b)\n",
    "a>17\n",
    "if a>17:\n",
    "    print(a*2)\n",
    "else:\n",
    "    print(b)\n"
   ]
  },
  {
   "cell_type": "code",
   "execution_count": 3,
   "metadata": {},
   "outputs": [
    {
     "name": "stdout",
     "output_type": "stream",
     "text": [
      "Enter value1: 2\n",
      "Enter value2: 2\n",
      "Enter value3: 2\n"
     ]
    }
   ],
   "source": [
    "a=int(input(\"Enter value1: \"))\n",
    "b=int(input(\"Enter value2: \"))\n",
    "c=int(input(\"Enter value3: \"))"
   ]
  },
  {
   "cell_type": "code",
   "execution_count": 7,
   "metadata": {},
   "outputs": [
    {
     "name": "stdout",
     "output_type": "stream",
     "text": [
      "6\n",
      "18\n"
     ]
    }
   ],
   "source": [
    "d=a+b+c\n",
    "print(d)\n",
    "if a==b==c:\n",
    "    print( d*3)\n",
    "else:\n",
    "    print(a,b,c)"
   ]
  },
  {
   "cell_type": "code",
   "execution_count": 1,
   "metadata": {},
   "outputs": [
    {
     "name": "stdout",
     "output_type": "stream",
     "text": [
      "qwertyqwertyqwertyqwertyqwerty\n"
     ]
    }
   ],
   "source": [
    "def l_string(str,n):\n",
    "    a=''\n",
    "    for i in range(n):\n",
    "        a=a+str\n",
    "    return a\n",
    "\n",
    "\n",
    "print(l_string('qwerty', 5))"
   ]
  },
  {
   "cell_type": "code",
   "execution_count": 2,
   "metadata": {},
   "outputs": [
    {
     "name": "stdout",
     "output_type": "stream",
     "text": [
      "Enter the value: 9\n",
      "no is odd\n"
     ]
    }
   ],
   "source": [
    "\n",
    "a= int(input('Enter the value: '))\n",
    "a%2==1,True\n",
    "a%2==0,False\n",
    "if a%2==0:\n",
    "    print(\"no is even\")\n",
    "else:\n",
    "    print(\"no is odd\")\n"
   ]
  },
  {
   "cell_type": "code",
   "execution_count": 9,
   "metadata": {},
   "outputs": [
    {
     "name": "stdout",
     "output_type": "stream",
     "text": [
      "4\n",
      "52\n"
     ]
    },
    {
     "data": {
      "text/plain": [
       "[10, 12, 14, 16, 52]"
      ]
     },
     "execution_count": 9,
     "metadata": {},
     "output_type": "execute_result"
    }
   ],
   "source": [
    "l=[10, 12, 14, 16]\n",
    "\n",
    "print(len(l))\n",
    "\n",
    "b=l[0]+l[1]+l[2]+l[3]\n",
    "print(b)\n",
    "l.append(b)\n",
    "l"
   ]
  },
  {
   "cell_type": "code",
   "execution_count": 5,
   "metadata": {},
   "outputs": [
    {
     "name": "stdout",
     "output_type": "stream",
     "text": [
      "4\n"
     ]
    }
   ],
   "source": [
    "def list_num_4(nums):\n",
    "    count=0\n",
    "    for num in nums:\n",
    "        if num==4:\n",
    "            count=count+1\n",
    "    return count\n",
    "    \n",
    "print(list_num_4([2,3,4,4,5,6,9,6,4,4,7,]))\n",
    "\n"
   ]
  },
  {
   "cell_type": "code",
   "execution_count": 8,
   "metadata": {},
   "outputs": [
    {
     "ename": "IndentationError",
     "evalue": "unexpected indent (<ipython-input-8-88b8720774e3>, line 4)",
     "output_type": "error",
     "traceback": [
      "\u001b[1;36m  File \u001b[1;32m\"<ipython-input-8-88b8720774e3>\"\u001b[1;36m, line \u001b[1;32m4\u001b[0m\n\u001b[1;33m    for i in range(n):\u001b[0m\n\u001b[1;37m    ^\u001b[0m\n\u001b[1;31mIndentationError\u001b[0m\u001b[1;31m:\u001b[0m unexpected indent\n"
     ]
    }
   ],
   "source": [
    "def l_string(str,n):\n",
    "    a=''\n",
    "    len(a)\n",
    "     for i in range(n):\n",
    "        len(a)>2\n",
    "        a=a+str\n",
    "        if len(a)<2:\n",
    "            a[0:2]\n",
    "    \n",
    "print(l_string('qwerty', 2))\n",
    "print(l_string('a', 2))\n",
    "   \n",
    "\n",
    "\n"
   ]
  },
  {
   "cell_type": "code",
   "execution_count": 25,
   "metadata": {},
   "outputs": [],
   "source": [
    "def string1(word, n):\n",
    "    if len(word) >=2:\n",
    "        print(word)\n",
    "        while n:\n",
    "            n=n-1\n",
    "            print(word[:2])\n",
    "    else:\n",
    "        while n:\n",
    "            n=n-1\n",
    "            print(word[0])"
   ]
  },
  {
   "cell_type": "code",
   "execution_count": 26,
   "metadata": {},
   "outputs": [
    {
     "name": "stdout",
     "output_type": "stream",
     "text": [
      "hey\n",
      "he\n",
      "he\n",
      "he\n",
      "None\n",
      "h\n",
      "h\n",
      "h\n",
      "None\n"
     ]
    }
   ],
   "source": [
    "print(string1('hey', 3))\n",
    "print(string1('h', 3))"
   ]
  },
  {
   "cell_type": "code",
   "execution_count": 38,
   "metadata": {},
   "outputs": [],
   "source": [
    "def string2(word, n):\n",
    "    len(word)\n",
    "    while n:\n",
    "        n=n-1\n",
    "       \n",
    "        \n",
    "        if len(word) >=2:\n",
    "            \n",
    "            print(word[:2])\n",
    "            \n",
    "        else:\n",
    "            print(word[0])"
   ]
  },
  {
   "cell_type": "code",
   "execution_count": 39,
   "metadata": {},
   "outputs": [
    {
     "name": "stdout",
     "output_type": "stream",
     "text": [
      "he\n",
      "he\n",
      "he\n",
      "he\n",
      "he\n",
      "None\n",
      "h\n",
      "h\n",
      "h\n",
      "h\n",
      "h\n",
      "None\n"
     ]
    }
   ],
   "source": [
    "print(string2('hey', 5))\n",
    "print(string2('h', 5))"
   ]
  },
  {
   "cell_type": "code",
   "execution_count": 46,
   "metadata": {},
   "outputs": [
    {
     "name": "stdout",
     "output_type": "stream",
     "text": [
      "False\n"
     ]
    }
   ],
   "source": [
    "def string3(str):\n",
    "    vowels ='aeiou'\n",
    "    return str in vowels\n",
    "\n",
    "\n",
    "print(string3('shree'))\n"
   ]
  },
  {
   "cell_type": "code",
   "execution_count": 60,
   "metadata": {},
   "outputs": [
    {
     "name": "stdout",
     "output_type": "stream",
     "text": [
      "False\n",
      "None\n"
     ]
    }
   ],
   "source": [
    "\n",
    "def li(list, n):\n",
    "    list1=[ ]\n",
    "    b=list1.__contains__(9)\n",
    "\n",
    "    #print(a)\n",
    "    if n==b:\n",
    "        print(True)\n",
    "    else:\n",
    "        print(False)\n",
    "\n",
    "print(li((2,7,8,5,0), 9))\n",
    "\n",
    "\n"
   ]
  },
  {
   "cell_type": "code",
   "execution_count": null,
   "metadata": {},
   "outputs": [],
   "source": [
    "# Q.26: Write a Python program to concatenate all elements in a list into a string and return it.\n",
    "def concatenatelist2string2(list):\n",
    "    a=' '\n",
    "    while list:\n",
    "        a+=str(list)\n",
    "    return a\n",
    "    print(a)\n",
    "print(concatenatelist2string2([10,22,13,1446,78]))\n"
   ]
  },
  {
   "cell_type": "code",
   "execution_count": 1,
   "metadata": {},
   "outputs": [
    {
     "name": "stdout",
     "output_type": "stream",
     "text": [
      " 1013144678\n"
     ]
    }
   ],
   "source": [
    "def concatenatelist2string(list):\n",
    "    a=' '\n",
    "    for i in list:\n",
    "        a+=str(i)\n",
    "    return a\n",
    "    print(a)\n",
    "print(concatenatelist2string([10,13,1446,78]))"
   ]
  },
  {
   "cell_type": "code",
   "execution_count": 2,
   "metadata": {},
   "outputs": [
    {
     "name": "stdout",
     "output_type": "stream",
     "text": [
      "[236, 162, 104, 58, 24]\n"
     ]
    }
   ],
   "source": [
    "#Q.27: Write a Python program to print all even numbers from a given numbers list in the same order and stop the printing\n",
    "#if any numbers that come after 237 in the sequence. \n",
    "\n",
    "\n",
    "numbers = [386, 462, 47, 418, 907, 344, 236, 375, 823, 566, 597, 978, 328, 615, 953, 345,\n",
    "399, 162, 758, 219, 918, 237, 412, 566, 826, 248, 866, 950, 626, 949, 687, 217,\n",
    "815, 67, 104, 58, 512, 24, 892, 894, 767, 553, 81, 379, 843, 831, 445, 742, 717,\n",
    "958,743, 527]\n",
    "\n",
    "mylist=[]\n",
    "\n",
    "for item in numbers:\n",
    "\n",
    "    if (item<=237)and(item%2==0):\n",
    "        mylist.append(item)\n",
    "        \n",
    "print(mylist)\n",
    "    \n",
    "\n"
   ]
  },
  {
   "cell_type": "code",
   "execution_count": 13,
   "metadata": {},
   "outputs": [
    {
     "name": "stdout",
     "output_type": "stream",
     "text": [
      "{'Black', 'White'}\n"
     ]
    }
   ],
   "source": [
    "#Q.29 Write a Python program to print out a set containing all the colors from color_list_1 which are not present in color_list_2.\n",
    "\n",
    "\n",
    "color_list_1 =set([\"White\", \"Black\", \"Red\"])\n",
    "color_list_2 = set([\"Red\", \"Green\"])\n",
    "\n",
    "b=color_list_1.difference(color_list_2)\n",
    "\n",
    "\n",
    "\n",
    "print(b)\n",
    "\n"
   ]
  },
  {
   "cell_type": "code",
   "execution_count": 1,
   "metadata": {},
   "outputs": [
    {
     "name": "stdout",
     "output_type": "stream",
     "text": [
      "15.0\n"
     ]
    }
   ],
   "source": [
    "#Q.30 Write a Python program that will accept the base and height of a triangle and compute the area.\n",
    "def Tri_area(a,b):\n",
    "    area=(a*b)/2\n",
    "    return area\n",
    "\n",
    "print(Tri_area(5,6))"
   ]
  },
  {
   "cell_type": "code",
   "execution_count": 3,
   "metadata": {},
   "outputs": [
    {
     "name": "stdout",
     "output_type": "stream",
     "text": [
      "60\n"
     ]
    }
   ],
   "source": [
    "#Q32. Write a Python program to get the least common multiple (LCM) of two positive integers.\n",
    "def lcm_fn(a,b):\n",
    "    if a>b:\n",
    "        z=a\n",
    "    else:\n",
    "        z=b\n",
    "    while(True):\n",
    "        if(z%a ==0)and (z%b==0):\n",
    "            lcm=z\n",
    "            break\n",
    "        z+=1\n",
    "    return lcm\n",
    "\n",
    "print(lcm_fn(10,12))"
   ]
  },
  {
   "cell_type": "code",
   "execution_count": 4,
   "metadata": {},
   "outputs": [
    {
     "name": "stdout",
     "output_type": "stream",
     "text": [
      "11\n",
      "None\n"
     ]
    }
   ],
   "source": [
    "# Q33. Write a Python program to sum of three given integers. However, if two values are equal sum will be zero.\n",
    "def sum(a,b,c):\n",
    "    sum_add=int(a+b+c)\n",
    "    if (a==b)or (b==c)or (a==c):\n",
    "        sum_add=0\n",
    "        print(sum_add)\n",
    "\n",
    "    else:\n",
    "        print(sum_add)\n",
    "\n",
    "print(sum(2,6,3))\n"
   ]
  },
  {
   "cell_type": "code",
   "execution_count": 6,
   "metadata": {},
   "outputs": [
    {
     "name": "stdout",
     "output_type": "stream",
     "text": [
      "7\n"
     ]
    }
   ],
   "source": [
    "#Q34. Write a Python program to sum of two given integers. However, if the sum is between 15 to 20 it will return 20.\n",
    "def sum(a,b):\n",
    "    sum_add=int(a+b)\n",
    "    if sum_add in range(15,20):\n",
    "\n",
    "        return 20\n",
    "\n",
    "    else:\n",
    "\n",
    "        return sum_add\n",
    "print(sum(1,6))\n"
   ]
  },
  {
   "cell_type": "code",
   "execution_count": 7,
   "metadata": {},
   "outputs": [
    {
     "name": "stdout",
     "output_type": "stream",
     "text": [
      "True\n"
     ]
    }
   ],
   "source": [
    "#Q35. Write a Python program that will return true if the two given integer values are equal or their sum or difference is 5\n",
    "\n",
    "def sum(a,b):\n",
    "    sum_add=int(a+b)\n",
    "    if (a==b)or(a+b==5)or (a-b==5):\n",
    "        return True\n",
    "    else:\n",
    "        return False\n",
    "print(sum(8,8))"
   ]
  },
  {
   "cell_type": "code",
   "execution_count": 17,
   "metadata": {},
   "outputs": [
    {
     "name": "stdout",
     "output_type": "stream",
     "text": [
      "16\n"
     ]
    }
   ],
   "source": [
    "#Q36. Write a Python program to add two objects if both objects are an integer type\n",
    "\n",
    "def sum(a,b):\n",
    "\n",
    "    if int(a)+int(b):\n",
    "        return a+b\n",
    "    \n",
    "print(sum(8,8))\n",
    "\n"
   ]
  },
  {
   "cell_type": "code",
   "execution_count": 1,
   "metadata": {},
   "outputs": [
    {
     "name": "stdout",
     "output_type": "stream",
     "text": [
      "dict_values(['Shree', 25, 'kota, india'])\n",
      "Shree\n",
      "25\n",
      "kota, india\n"
     ]
    }
   ],
   "source": [
    "#22-07-2020\n",
    "#37. Write a Python program to display your details like name, age, address in three different lines.\n",
    "d={\n",
    "    'name': 'Shree',\n",
    "    'Age': 25,\n",
    "    'address': 'kota, india'\n",
    "}\n",
    "\n",
    "print(d.values())\n",
    "\n",
    "print(d['name'])\n",
    "print(d['Age'])\n",
    "print(d['address'])"
   ]
  },
  {
   "cell_type": "code",
   "execution_count": 3,
   "metadata": {},
   "outputs": [
    {
     "name": "stdout",
     "output_type": "stream",
     "text": [
      "49\n"
     ]
    }
   ],
   "source": [
    "\n",
    "#38. Write a Python program to solve (x + y) * (x + y).\n",
    "\n",
    "def square(x,y):\n",
    "   a= int((x+y)*(x+y))\n",
    "   b=int((x+y)**2)\n",
    "   if b==a:\n",
    "       return b\n",
    "\n",
    "   else:\n",
    "       return False\n",
    "\n",
    "print(square(3,4))\n"
   ]
  },
  {
   "cell_type": "code",
   "execution_count": 4,
   "metadata": {},
   "outputs": [
    {
     "name": "stdout",
     "output_type": "stream",
     "text": [
      "12722.792627665729\n",
      "None\n"
     ]
    }
   ],
   "source": [
    "#39. Write a Python program to compute the future value of a specified principal amount, rate of interest, and a number of years.\n",
    "def amount(amt,int, years):\n",
    "    future=amt*((1+(0.01*int)) ** years)\n",
    "    print(future)\n",
    "print(amount(10000,3.5,7))\n"
   ]
  },
  {
   "cell_type": "code",
   "execution_count": 5,
   "metadata": {},
   "outputs": [
    {
     "name": "stdout",
     "output_type": "stream",
     "text": [
      "(1, 1)\n"
     ]
    }
   ],
   "source": [
    "#40. Write a Python program to compute the distance between the points (x1, y1) and (x2, y2).\n",
    "def distance(x1,y1,x2,y2):\n",
    "    point1=(x1,y1)\n",
    "    point2=(x2,y2)\n",
    "    dist=((x1-x2), (y1-y2))\n",
    "    return dist\n",
    "\n",
    "print(distance(4,4,3,3))"
   ]
  },
  {
   "cell_type": "code",
   "execution_count": 7,
   "metadata": {},
   "outputs": [
    {
     "name": "stdout",
     "output_type": "stream",
     "text": [
      "True\n"
     ]
    }
   ],
   "source": [
    "#41. Write a Python program to check whether a file exists.\n",
    "import os.path\n",
    "open('vgsales.csv')\n",
    "print(os.path.isfile('vgsales.csv'))"
   ]
  },
  {
   "cell_type": "code",
   "execution_count": 9,
   "metadata": {},
   "outputs": [
    {
     "name": "stdout",
     "output_type": "stream",
     "text": [
      "64\n"
     ]
    }
   ],
   "source": [
    "#42. Write a Python program to determine if a Python shell is executing in 32bit or 64bit mode on OS.\n",
    "\n",
    "import struct\n",
    "print(struct.calcsize(\"P\")*8)\n"
   ]
  },
  {
   "cell_type": "code",
   "execution_count": 10,
   "metadata": {},
   "outputs": [
    {
     "name": "stdout",
     "output_type": "stream",
     "text": [
      "10\n",
      "Windows-10-10.0.18362-SP0\n",
      "Windows\n",
      "nt\n",
      "sys.getwindowsversion(major=10, minor=0, build=18362, platform=2, service_pack='')\n",
      "win-amd64\n"
     ]
    }
   ],
   "source": [
    "#43. Write a Python program to get OS name, platform and release information.\n",
    "import sysconfig\n",
    "import sys\n",
    "import platform\n",
    "import os\n",
    "print(platform.release())\n",
    "print(platform.platform())\n",
    "print(platform.system())\n",
    "\n",
    "print(os.name)\n",
    "print(sys.getwindowsversion())\n",
    "print(sysconfig.get_platform())"
   ]
  },
  {
   "cell_type": "code",
   "execution_count": 1,
   "metadata": {},
   "outputs": [
    {
     "name": "stdout",
     "output_type": "stream",
     "text": [
      "(0, 2, 0)\n",
      "['D:\\\\Python\\\\Anaconda', 'D:\\\\Python\\\\Anaconda\\\\lib\\\\site-packages']\n"
     ]
    }
   ],
   "source": [
    "#44. Write a Python program to locate Python site-packages.\n",
    "\n",
    "import ipython_genutils\n",
    "import site\n",
    "\n",
    "print(ipython_genutils.version_info)\n",
    "print(site.getsitepackages())\n",
    "\n"
   ]
  },
  {
   "cell_type": "code",
   "execution_count": 2,
   "metadata": {},
   "outputs": [
    {
     "ename": "FileNotFoundError",
     "evalue": "[WinError 2] The system cannot find the file specified",
     "output_type": "error",
     "traceback": [
      "\u001b[1;31m---------------------------------------------------------------------------\u001b[0m",
      "\u001b[1;31mFileNotFoundError\u001b[0m                         Traceback (most recent call last)",
      "\u001b[1;32m<ipython-input-2-b46440aa1d25>\u001b[0m in \u001b[0;36m<module>\u001b[1;34m\u001b[0m\n\u001b[0;32m      1\u001b[0m \u001b[1;31m#45. Write a python program to call an external command in Python.\u001b[0m\u001b[1;33m\u001b[0m\u001b[1;33m\u001b[0m\u001b[1;33m\u001b[0m\u001b[0m\n\u001b[0;32m      2\u001b[0m \u001b[1;32mfrom\u001b[0m \u001b[0msubprocess\u001b[0m \u001b[1;32mimport\u001b[0m \u001b[0mcall\u001b[0m\u001b[1;33m\u001b[0m\u001b[1;33m\u001b[0m\u001b[0m\n\u001b[1;32m----> 3\u001b[1;33m \u001b[0mcall\u001b[0m\u001b[1;33m(\u001b[0m\u001b[1;33m[\u001b[0m\u001b[1;34m\"ls\"\u001b[0m\u001b[1;33m,\u001b[0m \u001b[1;34m\"-l\"\u001b[0m\u001b[1;33m]\u001b[0m\u001b[1;33m)\u001b[0m\u001b[1;33m\u001b[0m\u001b[1;33m\u001b[0m\u001b[0m\n\u001b[0m",
      "\u001b[1;32mD:\\Python\\Anaconda\\lib\\subprocess.py\u001b[0m in \u001b[0;36mcall\u001b[1;34m(timeout, *popenargs, **kwargs)\u001b[0m\n\u001b[0;32m    337\u001b[0m     \u001b[0mretcode\u001b[0m \u001b[1;33m=\u001b[0m \u001b[0mcall\u001b[0m\u001b[1;33m(\u001b[0m\u001b[1;33m[\u001b[0m\u001b[1;34m\"ls\"\u001b[0m\u001b[1;33m,\u001b[0m \u001b[1;34m\"-l\"\u001b[0m\u001b[1;33m]\u001b[0m\u001b[1;33m)\u001b[0m\u001b[1;33m\u001b[0m\u001b[1;33m\u001b[0m\u001b[0m\n\u001b[0;32m    338\u001b[0m     \"\"\"\n\u001b[1;32m--> 339\u001b[1;33m     \u001b[1;32mwith\u001b[0m \u001b[0mPopen\u001b[0m\u001b[1;33m(\u001b[0m\u001b[1;33m*\u001b[0m\u001b[0mpopenargs\u001b[0m\u001b[1;33m,\u001b[0m \u001b[1;33m**\u001b[0m\u001b[0mkwargs\u001b[0m\u001b[1;33m)\u001b[0m \u001b[1;32mas\u001b[0m \u001b[0mp\u001b[0m\u001b[1;33m:\u001b[0m\u001b[1;33m\u001b[0m\u001b[1;33m\u001b[0m\u001b[0m\n\u001b[0m\u001b[0;32m    340\u001b[0m         \u001b[1;32mtry\u001b[0m\u001b[1;33m:\u001b[0m\u001b[1;33m\u001b[0m\u001b[1;33m\u001b[0m\u001b[0m\n\u001b[0;32m    341\u001b[0m             \u001b[1;32mreturn\u001b[0m \u001b[0mp\u001b[0m\u001b[1;33m.\u001b[0m\u001b[0mwait\u001b[0m\u001b[1;33m(\u001b[0m\u001b[0mtimeout\u001b[0m\u001b[1;33m=\u001b[0m\u001b[0mtimeout\u001b[0m\u001b[1;33m)\u001b[0m\u001b[1;33m\u001b[0m\u001b[1;33m\u001b[0m\u001b[0m\n",
      "\u001b[1;32mD:\\Python\\Anaconda\\lib\\subprocess.py\u001b[0m in \u001b[0;36m__init__\u001b[1;34m(self, args, bufsize, executable, stdin, stdout, stderr, preexec_fn, close_fds, shell, cwd, env, universal_newlines, startupinfo, creationflags, restore_signals, start_new_session, pass_fds, encoding, errors, text)\u001b[0m\n\u001b[0;32m    798\u001b[0m                                 \u001b[0mc2pread\u001b[0m\u001b[1;33m,\u001b[0m \u001b[0mc2pwrite\u001b[0m\u001b[1;33m,\u001b[0m\u001b[1;33m\u001b[0m\u001b[1;33m\u001b[0m\u001b[0m\n\u001b[0;32m    799\u001b[0m                                 \u001b[0merrread\u001b[0m\u001b[1;33m,\u001b[0m \u001b[0merrwrite\u001b[0m\u001b[1;33m,\u001b[0m\u001b[1;33m\u001b[0m\u001b[1;33m\u001b[0m\u001b[0m\n\u001b[1;32m--> 800\u001b[1;33m                                 restore_signals, start_new_session)\n\u001b[0m\u001b[0;32m    801\u001b[0m         \u001b[1;32mexcept\u001b[0m\u001b[1;33m:\u001b[0m\u001b[1;33m\u001b[0m\u001b[1;33m\u001b[0m\u001b[0m\n\u001b[0;32m    802\u001b[0m             \u001b[1;31m# Cleanup if the child failed starting.\u001b[0m\u001b[1;33m\u001b[0m\u001b[1;33m\u001b[0m\u001b[1;33m\u001b[0m\u001b[0m\n",
      "\u001b[1;32mD:\\Python\\Anaconda\\lib\\subprocess.py\u001b[0m in \u001b[0;36m_execute_child\u001b[1;34m(self, args, executable, preexec_fn, close_fds, pass_fds, cwd, env, startupinfo, creationflags, shell, p2cread, p2cwrite, c2pread, c2pwrite, errread, errwrite, unused_restore_signals, unused_start_new_session)\u001b[0m\n\u001b[0;32m   1205\u001b[0m                                          \u001b[0menv\u001b[0m\u001b[1;33m,\u001b[0m\u001b[1;33m\u001b[0m\u001b[1;33m\u001b[0m\u001b[0m\n\u001b[0;32m   1206\u001b[0m                                          \u001b[0mos\u001b[0m\u001b[1;33m.\u001b[0m\u001b[0mfspath\u001b[0m\u001b[1;33m(\u001b[0m\u001b[0mcwd\u001b[0m\u001b[1;33m)\u001b[0m \u001b[1;32mif\u001b[0m \u001b[0mcwd\u001b[0m \u001b[1;32mis\u001b[0m \u001b[1;32mnot\u001b[0m \u001b[1;32mNone\u001b[0m \u001b[1;32melse\u001b[0m \u001b[1;32mNone\u001b[0m\u001b[1;33m,\u001b[0m\u001b[1;33m\u001b[0m\u001b[1;33m\u001b[0m\u001b[0m\n\u001b[1;32m-> 1207\u001b[1;33m                                          startupinfo)\n\u001b[0m\u001b[0;32m   1208\u001b[0m             \u001b[1;32mfinally\u001b[0m\u001b[1;33m:\u001b[0m\u001b[1;33m\u001b[0m\u001b[1;33m\u001b[0m\u001b[0m\n\u001b[0;32m   1209\u001b[0m                 \u001b[1;31m# Child is launched. Close the parent's copy of those pipe\u001b[0m\u001b[1;33m\u001b[0m\u001b[1;33m\u001b[0m\u001b[1;33m\u001b[0m\u001b[0m\n",
      "\u001b[1;31mFileNotFoundError\u001b[0m: [WinError 2] The system cannot find the file specified"
     ]
    }
   ],
   "source": [
    "#45. Write a python program to call an external command in Python.\n",
    "from subprocess import call\n",
    "call([\"ls\", \"-l\"])\n"
   ]
  },
  {
   "cell_type": "code",
   "execution_count": 3,
   "metadata": {},
   "outputs": [
    {
     "name": "stdout",
     "output_type": "stream",
     "text": [
      "Test.xlsx C:\\Users\\shubhamshrees\\Desktop\\JUPYTER\n"
     ]
    }
   ],
   "source": [
    "#46. Write a python program to get the path and name of the file that is currently executing.\n",
    "import os.path\n",
    "print(\"Test.xlsx\", os.path.realpath(\"\"))\n"
   ]
  },
  {
   "cell_type": "code",
   "execution_count": 1,
   "metadata": {},
   "outputs": [
    {
     "name": "stdout",
     "output_type": "stream",
     "text": [
      "8\n"
     ]
    }
   ],
   "source": [
    "#47. Write a Python program to find out the number of CPUs using.\n",
    "import multiprocessing\n",
    "print(multiprocessing.cpu_count())"
   ]
  },
  {
   "cell_type": "code",
   "execution_count": 2,
   "metadata": {},
   "outputs": [
    {
     "name": "stdout",
     "output_type": "stream",
     "text": [
      "12345\n"
     ]
    }
   ],
   "source": [
    "#48. Write a Python program to parse a string to Float or Integer.\n",
    "a='12345'\n",
    "float(a)\n",
    "\n",
    "print(a)"
   ]
  },
  {
   "cell_type": "code",
   "execution_count": null,
   "metadata": {},
   "outputs": [],
   "source": []
  },
  {
   "cell_type": "code",
   "execution_count": 10,
   "metadata": {},
   "outputs": [
    {
     "name": "stdout",
     "output_type": "stream",
     "text": [
      "0123456789"
     ]
    }
   ],
   "source": [
    "#50. Write a Python program to print without newline or space.\n",
    "for i in range(0, 10):\n",
    "    print(i, end=\"\")\n"
   ]
  },
  {
   "cell_type": "code",
   "execution_count": 11,
   "metadata": {},
   "outputs": [
    {
     "name": "stdout",
     "output_type": "stream",
     "text": [
      "90\n"
     ]
    }
   ],
   "source": [
    "if True:\n",
    "    print(90)\n",
    "elif not(1+1==3):\n",
    "    print(10)\n",
    "    "
   ]
  },
  {
   "cell_type": "code",
   "execution_count": 12,
   "metadata": {},
   "outputs": [
    {
     "ename": "SyntaxError",
     "evalue": "invalid syntax (<ipython-input-12-f809f5ea9fdd>, line 1)",
     "output_type": "error",
     "traceback": [
      "\u001b[1;36m  File \u001b[1;32m\"<ipython-input-12-f809f5ea9fdd>\"\u001b[1;36m, line \u001b[1;32m1\u001b[0m\n\u001b[1;33m    elif not(1+1==3):\u001b[0m\n\u001b[1;37m       ^\u001b[0m\n\u001b[1;31mSyntaxError\u001b[0m\u001b[1;31m:\u001b[0m invalid syntax\n"
     ]
    }
   ],
   "source": [
    "elif not(1+1==3):\n",
    "    print(10)"
   ]
  },
  {
   "cell_type": "code",
   "execution_count": 13,
   "metadata": {},
   "outputs": [
    {
     "data": {
      "text/plain": [
       "True"
      ]
     },
     "execution_count": 13,
     "metadata": {},
     "output_type": "execute_result"
    }
   ],
   "source": [
    "True"
   ]
  },
  {
   "cell_type": "code",
   "execution_count": 14,
   "metadata": {},
   "outputs": [
    {
     "data": {
      "text/plain": [
       "False"
      ]
     },
     "execution_count": 14,
     "metadata": {},
     "output_type": "execute_result"
    }
   ],
   "source": [
    "not True"
   ]
  },
  {
   "cell_type": "code",
   "execution_count": 15,
   "metadata": {},
   "outputs": [
    {
     "data": {
      "text/plain": [
       "True"
      ]
     },
     "execution_count": 15,
     "metadata": {},
     "output_type": "execute_result"
    }
   ],
   "source": [
    "not False"
   ]
  },
  {
   "cell_type": "code",
   "execution_count": 24,
   "metadata": {},
   "outputs": [
    {
     "name": "stdout",
     "output_type": "stream",
     "text": [
      "Weird\n"
     ]
    }
   ],
   "source": [
    "def even(n):\n",
    "    if n%2==1:\n",
    "        return 'Weird'\n",
    "    else:\n",
    "        if n%2==0:\n",
    "                return 'Not Weird'\n",
    "                #return n\n",
    "            break\n",
    "      elif n%2==1:\n",
    "                return 'Weird'\n",
    "                #return n\n",
    "            break\n",
    "        if n%2==0 and n>20:\n",
    "            return 'Not Weird'\n",
    "            \n",
    "             \n",
    "\n",
    "print(even(5))\n",
    "\n",
    "\n",
    "\n",
    "        "
   ]
  },
  {
   "cell_type": "code",
   "execution_count": 19,
   "metadata": {},
   "outputs": [
    {
     "data": {
      "text/plain": [
       "'Not Weird'"
      ]
     },
     "execution_count": 19,
     "metadata": {},
     "output_type": "execute_result"
    }
   ],
   "source": [
    "def isweird(n):\n",
    "    if n%2 == 1:\n",
    "        return(\"Weird\")\n",
    "    else:\n",
    "        if \n",
    "        \n",
    "            return(\"Not Weird\")\n",
    "        elif n>=6 and n<=20:\n",
    "            return(\"Weird\")\n",
    "        else:\n",
    "            return(\"Not Weird\")\n",
    "        \n",
    "isweird(24)"
   ]
  },
  {
   "cell_type": "code",
   "execution_count": 4,
   "metadata": {},
   "outputs": [
    {
     "data": {
      "text/plain": [
       "6"
      ]
     },
     "execution_count": 4,
     "metadata": {},
     "output_type": "execute_result"
    }
   ],
   "source": [
    "list(range(0,10,2))[-2]\n"
   ]
  },
  {
   "cell_type": "code",
   "execution_count": null,
   "metadata": {},
   "outputs": [],
   "source": [
    "def divide(a,b):\n",
    "\n",
    "    res1=a/b\n",
    "    res2=a//b\n",
    "  \n",
    "    print(res1)\n",
    "    print(res2)\n",
    "\n",
    "        \n",
    "if __name__ == '__main__':\n",
    "    #n = int(input().strip())\n",
    "    a = int(input())\n",
    "    b = int(input())"
   ]
  },
  {
   "cell_type": "code",
   "execution_count": 1,
   "metadata": {},
   "outputs": [
    {
     "name": "stdout",
     "output_type": "stream",
     "text": [
      "John\n",
      "36\n"
     ]
    }
   ],
   "source": [
    "\n",
    "class Person:\n",
    "  def __init__(self, p_name, p_age):\n",
    "    self.lv_name = p_name\n",
    "    self.lv_age = p_age\n",
    "\n",
    "p1 = Person(\"John\", 36)\n",
    "\n",
    "print(p1.lv_name)\n",
    "print(p1.lv_age)"
   ]
  },
  {
   "cell_type": "code",
   "execution_count": 3,
   "metadata": {},
   "outputs": [
    {
     "name": "stdout",
     "output_type": "stream",
     "text": [
      "John\n"
     ]
    },
    {
     "data": {
      "text/plain": [
       "36"
      ]
     },
     "execution_count": 3,
     "metadata": {},
     "output_type": "execute_result"
    }
   ],
   "source": [
    "class Person:\n",
    "  def __init__(self, name, age):\n",
    "    self.name = name\n",
    "    self.age = age\n",
    "\n",
    "p1 = Person(\"John\", 36)\n",
    "\n",
    "print(p1.name)\n",
    "p1.age\n",
    "\n"
   ]
  },
  {
   "cell_type": "code",
   "execution_count": null,
   "metadata": {},
   "outputs": [],
   "source": []
  }
 ],
 "metadata": {
  "kernelspec": {
   "display_name": "Python 3",
   "language": "python",
   "name": "python3"
  },
  "language_info": {
   "codemirror_mode": {
    "name": "ipython",
    "version": 3
   },
   "file_extension": ".py",
   "mimetype": "text/x-python",
   "name": "python",
   "nbconvert_exporter": "python",
   "pygments_lexer": "ipython3",
   "version": "3.7.6"
  }
 },
 "nbformat": 4,
 "nbformat_minor": 4
}
